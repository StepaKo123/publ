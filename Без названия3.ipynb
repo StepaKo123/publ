{
 "cells": [
  {
   "cell_type": "code",
   "execution_count": 37,
   "id": "d1d9cbee",
   "metadata": {},
   "outputs": [
    {
     "name": "stdout",
     "output_type": "stream",
     "text": [
      "(1920, 1080)\n",
      "1\n"
     ]
    },
    {
     "name": "stderr",
     "output_type": "stream",
     "text": [
      "<ipython-input-37-32e64bbb904c>:46: RuntimeWarning: invalid value encountered in double_scalars\n",
      "  summ = (summ[0] / k, summ[1] / k, summ[2] / k)\n"
     ]
    },
    {
     "name": "stdout",
     "output_type": "stream",
     "text": [
      "[[[ 66  61  57]\n",
      "  [  6   8  11]\n",
      "  [ 52  67  73]\n",
      "  ...\n",
      "  [116  88  54]\n",
      "  [116  88  56]\n",
      "  [ 86  69  64]]\n",
      "\n",
      " [[115 109 100]\n",
      "  [  8  10  11]\n",
      "  [  7   9  13]\n",
      "  ...\n",
      "  [116  88  54]\n",
      "  [117  89  56]\n",
      "  [100  80  63]]\n",
      "\n",
      " [[137 134 124]\n",
      "  [ 42  40  39]\n",
      "  [  3   5   6]\n",
      "  ...\n",
      "  [117  89  55]\n",
      "  [116  88  56]\n",
      "  [ 83  69  61]]\n",
      "\n",
      " ...\n",
      "\n",
      " [[ 56  55  55]\n",
      "  [139 141 132]\n",
      "  [158 151 137]\n",
      "  ...\n",
      "  [163 142 110]\n",
      "  [162 141 107]\n",
      "  [163 141 106]]\n",
      "\n",
      " [[ 18  15  16]\n",
      "  [ 57  56  54]\n",
      "  [154 148 137]\n",
      "  ...\n",
      "  [162 141 109]\n",
      "  [163 142 109]\n",
      "  [163 141 106]]\n",
      "\n",
      " [[ 13  12  10]\n",
      "  [ 25  22  22]\n",
      "  [111 108 102]\n",
      "  ...\n",
      "  [166 147 116]\n",
      "  [166 145 114]\n",
      "  [164 144 111]]]\n"
     ]
    },
    {
     "data": {
      "text/plain": [
       "True"
      ]
     },
     "execution_count": 37,
     "metadata": {},
     "output_type": "execute_result"
    }
   ],
   "source": [
    "# Downscailing images, try1, try2... is original pictures\n",
    "# tran11, tran12... is downscaled 8 times(d = 8) with lambda = 1\n",
    "# tran1, tran2... is downscaled 4 times(d = 4) with lambda = 0.5\n",
    "\n",
    "import cv2\n",
    "import numpy as np\n",
    "import math\n",
    "import os\n",
    "import pandas as pd\n",
    "\n",
    "### Downloading image\n",
    "img = cv2.imread(\"try1.jpg\")\n",
    "d = 4\n",
    "width = int(img.shape[1] / d)\n",
    "height = int(img.shape[0] / d)\n",
    "dim = (width, height)\n",
    "print(dim)\n",
    "\n",
    "# resize image with box_filter getting I_d picture\n",
    "resized = cv2.resize(img, dim, interpolation=cv2.INTER_LINEAR)\n",
    "\n",
    "## Kernel of the convolution\n",
    "conv_kern = np.array([[1 / (16), 2 / (16), 1 / (16)],\n",
    "                [2 / (16), 4 / (16), 2 / (16)],\n",
    "                [1 / (16), 2 / (16), 1 / (16)]])\n",
    "\n",
    "# opencv convolution \n",
    "res = cv2.filter2D(resized, -1, conv_kern)\n",
    "res1 = cv2.filter2D(resized, -1, conv_kern)\n",
    "cv2.imwrite('tran.jpg',res)\n",
    "# res is I~ picture, res1 will be the final\n",
    "\n",
    "\n",
    "v_max = (3 * 255 * 255) ** (0.5)\n",
    "lmb = 0.5\n",
    "print(1)\n",
    "for i in range(height):\n",
    "    for j in range(width):\n",
    "        k = 0\n",
    "        summ = 0\n",
    "        for i1 in range(i * d, (i + 1) * d):\n",
    "            for j1 in range(j * d, (j + 1) * d):\n",
    "                mod = (abs((int(img[i1, j1][0]) - int(res[i, j][0]))) + abs((int(img[i1, j1][1]) - int(res[i, j][1]))) + abs((int(img[i1, j1][2]) - int(res[i, j][2]))))\n",
    "                kf = (mod / v_max) ** lmb\n",
    "                k += kf\n",
    "                summ += img[i1, j1] * kf\n",
    "        summ = (summ[0] / k, summ[1] / k, summ[2] / k)\n",
    "        res1[i, j] = summ\n",
    "print(res1)\n",
    "cv2.imwrite('tran1.jpg',res1)"
   ]
  },
  {
   "cell_type": "code",
   "execution_count": null,
   "id": "7715215e",
   "metadata": {},
   "outputs": [],
   "source": []
  },
  {
   "cell_type": "code",
   "execution_count": null,
   "id": "c3f23085",
   "metadata": {},
   "outputs": [],
   "source": []
  },
  {
   "cell_type": "code",
   "execution_count": null,
   "id": "1b10a331",
   "metadata": {},
   "outputs": [],
   "source": []
  }
 ],
 "metadata": {
  "kernelspec": {
   "display_name": "Python 3",
   "language": "python",
   "name": "python3"
  },
  "language_info": {
   "codemirror_mode": {
    "name": "ipython",
    "version": 3
   },
   "file_extension": ".py",
   "mimetype": "text/x-python",
   "name": "python",
   "nbconvert_exporter": "python",
   "pygments_lexer": "ipython3",
   "version": "3.8.8"
  }
 },
 "nbformat": 4,
 "nbformat_minor": 5
}
